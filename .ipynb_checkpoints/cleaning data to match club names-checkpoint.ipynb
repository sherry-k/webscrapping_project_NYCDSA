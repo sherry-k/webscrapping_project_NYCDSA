{
 "cells": [
  {
   "cell_type": "code",
   "execution_count": 103,
   "metadata": {},
   "outputs": [],
   "source": [
    "import pandas as pd\n",
    "import re\n",
    "import numpy as np\n"
   ]
  },
  {
   "cell_type": "code",
   "execution_count": 1,
   "metadata": {},
   "outputs": [
    {
     "name": "stdout",
     "output_type": "stream",
     "text": [
      "/Users/shehryarkhawaja/NYCDSA/webscrapping project\r\n"
     ]
    }
   ],
   "source": [
    "!pwd"
   ]
  },
  {
   "cell_type": "code",
   "execution_count": 105,
   "metadata": {},
   "outputs": [
    {
     "name": "stdout",
     "output_type": "stream",
     "text": [
      "\u001b[1m\u001b[34mApplications\u001b[m\u001b[m                            \u001b[1m\u001b[34mPublic\u001b[m\u001b[m\r\n",
      "Collaterals-Oct 10, 2018.pdf            \u001b[1m\u001b[34mSamsung\u001b[m\u001b[m\r\n",
      "\u001b[1m\u001b[34mDSA PREP\u001b[m\u001b[m                                \u001b[1m\u001b[34mTradeCast\u001b[m\u001b[m\r\n",
      "\u001b[1m\u001b[34mDesktop\u001b[m\u001b[m                                 Untitled.ipynb\r\n",
      "\u001b[1m\u001b[34mDocuments\u001b[m\u001b[m                               \u001b[1m\u001b[34manaconda3\u001b[m\u001b[m\r\n",
      "\u001b[1m\u001b[34mDownloads\u001b[m\u001b[m                               \u001b[1m\u001b[34mbin\u001b[m\u001b[m\r\n",
      "EPL_TM1.csv                             cleaning data to match club names.ipynb\r\n",
      "EPL_Table.csv                           example.Rmd\r\n",
      "\u001b[1m\u001b[34mLibrary\u001b[m\u001b[m                                 example.html\r\n",
      "\u001b[1m\u001b[34mMovies\u001b[m\u001b[m                                  \u001b[1m\u001b[34mgit_proj\u001b[m\u001b[m\r\n",
      "\u001b[1m\u001b[34mMusic\u001b[m\u001b[m                                   \u001b[1m\u001b[34mgit_proj2\u001b[m\u001b[m\r\n",
      "\u001b[1m\u001b[34mNYCDSA\u001b[m\u001b[m                                  \u001b[1m\u001b[34mnltk_data\u001b[m\u001b[m\r\n",
      "\u001b[1m\u001b[34mPictures\u001b[m\u001b[m                                \u001b[1m\u001b[34mseaborn-data\u001b[m\u001b[m\r\n"
     ]
    }
   ],
   "source": [
    "!ls"
   ]
  },
  {
   "cell_type": "code",
   "execution_count": 136,
   "metadata": {},
   "outputs": [],
   "source": [
    "transfer = pd.read_csv(\"EPL_TM1.csv\")\n",
    "table = pd.read_csv(\"EPL_Table.csv\")"
   ]
  },
  {
   "cell_type": "code",
   "execution_count": 107,
   "metadata": {},
   "outputs": [],
   "source": [
    "club_names1 = transfer['Club'].tolist()\n",
    "club_names1"
   ]
  },
  {
   "cell_type": "code",
   "execution_count": 29,
   "metadata": {},
   "outputs": [],
   "source": [
    "club_names2 = table['Club'].tolist()\n",
    "club_names2"
   ]
  },
  {
   "cell_type": "code",
   "execution_count": 30,
   "metadata": {},
   "outputs": [],
   "source": [
    "club_names1 = sorted(club_names1)\n",
    "club_names2 = sorted(club_names2)"
   ]
  },
  {
   "cell_type": "code",
   "execution_count": 110,
   "metadata": {},
   "outputs": [],
   "source": [
    "set_names1 = set(club_names1)\n",
    "set_names2 = set(club_names2)"
   ]
  },
  {
   "cell_type": "code",
   "execution_count": 111,
   "metadata": {},
   "outputs": [],
   "source": [
    "names1_sorted = sorted(list(set_names1))\n",
    "names2_sorted = sorted(list(set_names2))"
   ]
  },
  {
   "cell_type": "code",
   "execution_count": 131,
   "metadata": {},
   "outputs": [
    {
     "data": {
      "text/plain": [
       "['Arsenal FC',\n",
       " 'Aston Villa',\n",
       " 'Birmingham City',\n",
       " 'Blackburn Rovers',\n",
       " 'Blackpool FC',\n",
       " 'Bolton Wanderers',\n",
       " 'Bradford City',\n",
       " 'Brighton & Hove Albion',\n",
       " 'Burnley FC',\n",
       " 'Cardiff City',\n",
       " 'Charlton Athletic',\n",
       " 'Chelsea FC',\n",
       " 'Coventry City',\n",
       " 'Crystal Palace',\n",
       " 'Derby County',\n",
       " 'Everton FC',\n",
       " 'Fulham FC',\n",
       " 'Huddersfield Town',\n",
       " 'Hull City',\n",
       " 'Ipswich Town',\n",
       " 'Leeds United',\n",
       " 'Leicester City',\n",
       " 'Liverpool FC',\n",
       " 'Manchester City',\n",
       " 'Manchester United',\n",
       " 'Middlesbrough FC',\n",
       " 'Newcastle United',\n",
       " 'Norwich City',\n",
       " 'Nottingham Forest',\n",
       " 'Portsmouth FC',\n",
       " 'Queens Park Rangers',\n",
       " 'Reading FC',\n",
       " 'Sheffield United',\n",
       " 'Sheffield Wednesday',\n",
       " 'Southampton FC',\n",
       " 'Stoke City',\n",
       " 'Sunderland AFC',\n",
       " 'Swansea City',\n",
       " 'Tottenham Hotspur',\n",
       " 'Watford FC',\n",
       " 'West Bromwich Albion',\n",
       " 'West Ham United',\n",
       " 'Wigan Athletic',\n",
       " 'Wimbledon FC',\n",
       " 'Wolverhampton Wanderers']"
      ]
     },
     "execution_count": 131,
     "metadata": {},
     "output_type": "execute_result"
    }
   ],
   "source": [
    "names1_sorted"
   ]
  },
  {
   "cell_type": "code",
   "execution_count": 130,
   "metadata": {},
   "outputs": [
    {
     "data": {
      "text/plain": [
       "['Arsenal',\n",
       " 'Aston Villa',\n",
       " 'Birmingham',\n",
       " 'Blackburn',\n",
       " 'Blackpool',\n",
       " 'Bolton',\n",
       " 'Bradford',\n",
       " 'Brighton',\n",
       " 'Burnley',\n",
       " 'Cardiff',\n",
       " 'Charlton',\n",
       " 'Chelsea',\n",
       " 'Coventry',\n",
       " 'Crystal Palace',\n",
       " 'Derby',\n",
       " 'Everton',\n",
       " 'Fulham',\n",
       " 'Huddersfield',\n",
       " 'Hull City',\n",
       " 'Ipswich',\n",
       " 'Leeds',\n",
       " 'Leicester',\n",
       " 'Liverpool',\n",
       " 'Man City',\n",
       " 'Man Utd',\n",
       " 'Middlesbrough',\n",
       " 'Newcastle',\n",
       " 'Norwich',\n",
       " 'Nottm Forest',\n",
       " 'Portsmouth',\n",
       " 'QPR',\n",
       " 'Reading',\n",
       " 'Sheff Wed',\n",
       " 'Sheffield Utd.',\n",
       " 'Southampton',\n",
       " 'Spurs',\n",
       " 'Stoke City',\n",
       " 'Sunderland',\n",
       " 'Swansea',\n",
       " 'Watford',\n",
       " 'West Brom',\n",
       " 'West Ham',\n",
       " 'Wigan',\n",
       " 'Wimbledon FC',\n",
       " 'Wolves']"
      ]
     },
     "execution_count": 130,
     "metadata": {},
     "output_type": "execute_result"
    }
   ],
   "source": [
    "names2_sorted"
   ]
  },
  {
   "cell_type": "code",
   "execution_count": 114,
   "metadata": {},
   "outputs": [
    {
     "name": "stdout",
     "output_type": "stream",
     "text": [
      "46\n",
      "47\n"
     ]
    }
   ],
   "source": [
    "print(len(names1_sorted))\n",
    "print(len(names2_sorted))"
   ]
  },
  {
   "cell_type": "code",
   "execution_count": 120,
   "metadata": {
    "scrolled": false
   },
   "outputs": [],
   "source": [
    "names1_sorted.remove('AFC Bournemouth')\n",
    "names2_sorted.remove('Bournemouth')\n",
    "names2_sorted.remove('Barnsley FC')\n"
   ]
  },
  {
   "cell_type": "code",
   "execution_count": 125,
   "metadata": {},
   "outputs": [
    {
     "data": {
      "text/plain": [
       "{'Arsenal': 'Arsenal FC',\n",
       " 'Aston Villa': 'Aston Villa',\n",
       " 'Birmingham': 'Birmingham City',\n",
       " 'Blackburn': 'Blackburn Rovers',\n",
       " 'Blackpool': 'Blackpool FC',\n",
       " 'Bolton': 'Bolton Wanderers',\n",
       " 'Bradford': 'Bradford City',\n",
       " 'Brighton': 'Brighton & Hove Albion',\n",
       " 'Burnley': 'Burnley FC',\n",
       " 'Cardiff': 'Cardiff City',\n",
       " 'Charlton': 'Charlton Athletic',\n",
       " 'Chelsea': 'Chelsea FC',\n",
       " 'Coventry': 'Coventry City',\n",
       " 'Crystal Palace': 'Crystal Palace',\n",
       " 'Derby': 'Derby County',\n",
       " 'Everton': 'Everton FC',\n",
       " 'Fulham': 'Fulham FC',\n",
       " 'Huddersfield': 'Huddersfield Town',\n",
       " 'Hull City': 'Hull City',\n",
       " 'Ipswich': 'Ipswich Town',\n",
       " 'Leeds': 'Leeds United',\n",
       " 'Leicester': 'Leicester City',\n",
       " 'Liverpool': 'Liverpool FC',\n",
       " 'Man City': 'Manchester City',\n",
       " 'Man Utd': 'Manchester United',\n",
       " 'Middlesbrough': 'Middlesbrough FC',\n",
       " 'Newcastle': 'Newcastle United',\n",
       " 'Norwich': 'Norwich City',\n",
       " 'Nottm Forest': 'Nottingham Forest',\n",
       " 'Portsmouth': 'Portsmouth FC',\n",
       " 'QPR': 'Queens Park Rangers',\n",
       " 'Reading': 'Reading FC',\n",
       " 'Sheff Wed': 'Sheffield United',\n",
       " 'Sheffield Utd.': 'Sheffield Wednesday',\n",
       " 'Southampton': 'Southampton FC',\n",
       " 'Spurs': 'Stoke City',\n",
       " 'Stoke City': 'Sunderland AFC',\n",
       " 'Sunderland': 'Swansea City',\n",
       " 'Swansea': 'Tottenham Hotspur',\n",
       " 'Watford': 'Watford FC',\n",
       " 'West Brom': 'West Bromwich Albion',\n",
       " 'West Ham': 'West Ham United',\n",
       " 'Wigan': 'Wigan Athletic',\n",
       " 'Wimbledon FC': 'Wimbledon FC',\n",
       " 'Wolves': 'Wolverhampton Wanderers'}"
      ]
     },
     "execution_count": 125,
     "metadata": {},
     "output_type": "execute_result"
    }
   ],
   "source": [
    "dict_names = dict(zip(names2_sorted, names1_sorted))\n",
    "dict_names"
   ]
  },
  {
   "cell_type": "code",
   "execution_count": 126,
   "metadata": {},
   "outputs": [],
   "source": [
    "dict_names['Bournemouth'] = 'AFC Bournemouth'\n",
    "dict_names['Barnsley FC'] = 'Barnsley FC'\n",
    "dict_names['Spurs'] = 'Tottenham Hotspur'\n",
    "dict_names['Stoke City'] = 'Stoke City'\n",
    "dict_names['Sunderland'] = 'Sunderland AFC'\n",
    "dict_names['Swansea'] = 'Swansea City'\n",
    "dict_names['Sheff Wed'] = 'Sheffield Wednesday'\n",
    "dict_names['Sheffield Utd.'] = 'Sheffield United'"
   ]
  },
  {
   "cell_type": "code",
   "execution_count": 134,
   "metadata": {},
   "outputs": [],
   "source": []
  },
  {
   "cell_type": "code",
   "execution_count": 135,
   "metadata": {},
   "outputs": [
    {
     "name": "stdout",
     "output_type": "stream",
     "text": [
      "47\n"
     ]
    },
    {
     "data": {
      "text/plain": [
       "{'Arsenal': 'Arsenal FC',\n",
       " 'Aston Villa': 'Aston Villa',\n",
       " 'Birmingham': 'Birmingham City',\n",
       " 'Blackburn': 'Blackburn Rovers',\n",
       " 'Blackpool': 'Blackpool FC',\n",
       " 'Bolton': 'Bolton Wanderers',\n",
       " 'Bradford': 'Bradford City',\n",
       " 'Brighton': 'Brighton & Hove Albion',\n",
       " 'Burnley': 'Burnley FC',\n",
       " 'Cardiff': 'Cardiff City',\n",
       " 'Charlton': 'Charlton Athletic',\n",
       " 'Chelsea': 'Chelsea FC',\n",
       " 'Coventry': 'Coventry City',\n",
       " 'Crystal Palace': 'Crystal Palace',\n",
       " 'Derby': 'Derby County',\n",
       " 'Everton': 'Everton FC',\n",
       " 'Fulham': 'Fulham FC',\n",
       " 'Huddersfield': 'Huddersfield Town',\n",
       " 'Hull City': 'Hull City',\n",
       " 'Ipswich': 'Ipswich Town',\n",
       " 'Leeds': 'Leeds United',\n",
       " 'Leicester': 'Leicester City',\n",
       " 'Liverpool': 'Liverpool FC',\n",
       " 'Man City': 'Manchester City',\n",
       " 'Man Utd': 'Manchester United',\n",
       " 'Middlesbrough': 'Middlesbrough FC',\n",
       " 'Newcastle': 'Newcastle United',\n",
       " 'Norwich': 'Norwich City',\n",
       " 'Nottm Forest': 'Nottingham Forest',\n",
       " 'Portsmouth': 'Portsmouth FC',\n",
       " 'QPR': 'Queens Park Rangers',\n",
       " 'Reading': 'Reading FC',\n",
       " 'Sheff Wed': 'Sheffield Wednesday',\n",
       " 'Sheffield Utd.': 'Sheffield United',\n",
       " 'Southampton': 'Southampton FC',\n",
       " 'Spurs': 'Tottenham Hotspur',\n",
       " 'Stoke City': 'Stoke City',\n",
       " 'Sunderland': 'Sunderland AFC',\n",
       " 'Swansea': 'Swansea City',\n",
       " 'Watford': 'Watford FC',\n",
       " 'West Brom': 'West Bromwich Albion',\n",
       " 'West Ham': 'West Ham United',\n",
       " 'Wigan': 'Wigan Athletic',\n",
       " 'Wimbledon FC': 'Wimbledon FC',\n",
       " 'Wolves': 'Wolverhampton Wanderers',\n",
       " 'Barnsley FC': 'Barnsley FC',\n",
       " 'Bournemouth': 'AFC Bournemouth'}"
      ]
     },
     "execution_count": 135,
     "metadata": {},
     "output_type": "execute_result"
    }
   ],
   "source": [
    "print(len(dict_names))\n",
    "dict_names\n"
   ]
  },
  {
   "cell_type": "code",
   "execution_count": 137,
   "metadata": {},
   "outputs": [],
   "source": [
    "table['Club'] = table['Club'].map(dict_names)"
   ]
  },
  {
   "cell_type": "code",
   "execution_count": 138,
   "metadata": {},
   "outputs": [
    {
     "data": {
      "text/plain": [
       "0                 Liverpool FC\n",
       "1              Manchester City\n",
       "2            Tottenham Hotspur\n",
       "3                   Chelsea FC\n",
       "4                   Arsenal FC\n",
       "5            Manchester United\n",
       "6                   Watford FC\n",
       "7      Wolverhampton Wanderers\n",
       "8               Leicester City\n",
       "9              West Ham United\n",
       "10                  Everton FC\n",
       "11             AFC Bournemouth\n",
       "12      Brighton & Hove Albion\n",
       "13              Crystal Palace\n",
       "14              Southampton FC\n",
       "15                  Burnley FC\n",
       "16            Newcastle United\n",
       "17                Cardiff City\n",
       "18                   Fulham FC\n",
       "19           Huddersfield Town\n",
       "20             Manchester City\n",
       "21           Manchester United\n",
       "22           Tottenham Hotspur\n",
       "23                Liverpool FC\n",
       "24                  Chelsea FC\n",
       "25                  Arsenal FC\n",
       "26                  Burnley FC\n",
       "27                  Everton FC\n",
       "28              Leicester City\n",
       "29            Newcastle United\n",
       "                ...           \n",
       "410          Tottenham Hotspur\n",
       "411        Sheffield Wednesday\n",
       "412           Newcastle United\n",
       "413                 Everton FC\n",
       "414              Coventry City\n",
       "415               Wimbledon FC\n",
       "416             Southampton FC\n",
       "417          Charlton Athletic\n",
       "418           Blackburn Rovers\n",
       "419          Nottingham Forest\n",
       "420                 Arsenal FC\n",
       "421          Manchester United\n",
       "422               Liverpool FC\n",
       "423                 Chelsea FC\n",
       "424               Leeds United\n",
       "425           Blackburn Rovers\n",
       "426                Aston Villa\n",
       "427            West Ham United\n",
       "428               Derby County\n",
       "429             Leicester City\n",
       "430              Coventry City\n",
       "431             Southampton FC\n",
       "432           Newcastle United\n",
       "433          Tottenham Hotspur\n",
       "434        Sheffield Wednesday\n",
       "435                 Everton FC\n",
       "436           Bolton Wanderers\n",
       "437                Barnsley FC\n",
       "438             Crystal Palace\n",
       "439               Wimbledon FC\n",
       "Name: Club, Length: 440, dtype: object"
      ]
     },
     "execution_count": 138,
     "metadata": {},
     "output_type": "execute_result"
    }
   ],
   "source": [
    "table['Club']"
   ]
  },
  {
   "cell_type": "code",
   "execution_count": 139,
   "metadata": {},
   "outputs": [],
   "source": [
    "table.to_csv(\"EPL_Table_fixed.csv\", index = False)"
   ]
  },
  {
   "cell_type": "code",
   "execution_count": 158,
   "metadata": {},
   "outputs": [],
   "source": [
    "year1 = table['Season'].tolist()\n",
    "year_set = set(year1)"
   ]
  },
  {
   "cell_type": "code",
   "execution_count": 173,
   "metadata": {},
   "outputs": [
    {
     "data": {
      "text/plain": [
       "['00/01',\n",
       " '01/02',\n",
       " '02/03',\n",
       " '03/04',\n",
       " '04/05',\n",
       " '05/06',\n",
       " '06/07',\n",
       " '07/08',\n",
       " '08/09',\n",
       " '09/10',\n",
       " '10/11',\n",
       " '11/12',\n",
       " '12/13',\n",
       " '13/14',\n",
       " '14/15',\n",
       " '15/16',\n",
       " '16/17',\n",
       " '17/18',\n",
       " '18/19',\n",
       " '97/98',\n",
       " '98/99',\n",
       " '99/00']"
      ]
     },
     "execution_count": 173,
     "metadata": {},
     "output_type": "execute_result"
    }
   ],
   "source": [
    "year_lst = list(year_set)\n",
    "year_lst = sorted(year_lst)\n",
    "year_lst"
   ]
  },
  {
   "cell_type": "code",
   "execution_count": 174,
   "metadata": {},
   "outputs": [],
   "source": [
    "import datetime\n",
    "year = datetime.datetime.today().year\n",
    "year1_lst = list(range(year-19, year))\n",
    "year1_lst = year1_lst + [1997, 1998, 1999]"
   ]
  },
  {
   "cell_type": "code",
   "execution_count": 169,
   "metadata": {},
   "outputs": [
    {
     "data": {
      "text/plain": [
       "[2000,\n",
       " 2001,\n",
       " 2002,\n",
       " 2003,\n",
       " 2004,\n",
       " 2005,\n",
       " 2006,\n",
       " 2007,\n",
       " 2008,\n",
       " 2009,\n",
       " 2010,\n",
       " 2011,\n",
       " 2012,\n",
       " 2013,\n",
       " 2014,\n",
       " 2015,\n",
       " 2016,\n",
       " 2017,\n",
       " 2018,\n",
       " 1997,\n",
       " 1998,\n",
       " 1999]"
      ]
     },
     "execution_count": 169,
     "metadata": {},
     "output_type": "execute_result"
    }
   ],
   "source": [
    "year1_lst"
   ]
  },
  {
   "cell_type": "code",
   "execution_count": 175,
   "metadata": {},
   "outputs": [],
   "source": [
    "year_dict = dict(zip(year_lst, year1_lst))"
   ]
  },
  {
   "cell_type": "code",
   "execution_count": 176,
   "metadata": {},
   "outputs": [
    {
     "data": {
      "text/plain": [
       "{'00/01': 2000,\n",
       " '01/02': 2001,\n",
       " '02/03': 2002,\n",
       " '03/04': 2003,\n",
       " '04/05': 2004,\n",
       " '05/06': 2005,\n",
       " '06/07': 2006,\n",
       " '07/08': 2007,\n",
       " '08/09': 2008,\n",
       " '09/10': 2009,\n",
       " '10/11': 2010,\n",
       " '11/12': 2011,\n",
       " '12/13': 2012,\n",
       " '13/14': 2013,\n",
       " '14/15': 2014,\n",
       " '15/16': 2015,\n",
       " '16/17': 2016,\n",
       " '17/18': 2017,\n",
       " '18/19': 2018,\n",
       " '97/98': 1997,\n",
       " '98/99': 1998,\n",
       " '99/00': 1999}"
      ]
     },
     "execution_count": 176,
     "metadata": {},
     "output_type": "execute_result"
    }
   ],
   "source": [
    "year_dict"
   ]
  },
  {
   "cell_type": "code",
   "execution_count": 177,
   "metadata": {},
   "outputs": [],
   "source": [
    "merged_table = pd.read_csv(\"Merged_table.csv\")"
   ]
  },
  {
   "cell_type": "code",
   "execution_count": 179,
   "metadata": {},
   "outputs": [],
   "source": [
    "merged_table[\"Season\"] = merged_table[\"Season\"].map(year_dict)"
   ]
  },
  {
   "cell_type": "code",
   "execution_count": 180,
   "metadata": {},
   "outputs": [
    {
     "data": {
      "text/plain": [
       "0      2015\n",
       "1      2016\n",
       "2      2017\n",
       "3      2018\n",
       "4      2000\n",
       "5      2001\n",
       "6      2002\n",
       "7      2003\n",
       "8      2004\n",
       "9      2005\n",
       "10     2006\n",
       "11     2007\n",
       "12     2008\n",
       "13     2009\n",
       "14     2010\n",
       "15     2011\n",
       "16     2012\n",
       "17     2013\n",
       "18     2014\n",
       "19     2015\n",
       "20     2016\n",
       "21     2017\n",
       "22     2018\n",
       "23     1998\n",
       "24     1999\n",
       "25     2000\n",
       "26     2001\n",
       "27     2002\n",
       "28     2003\n",
       "29     2004\n",
       "       ... \n",
       "390    2005\n",
       "391    2006\n",
       "392    2007\n",
       "393    2008\n",
       "394    2009\n",
       "395    2010\n",
       "396    2012\n",
       "397    2013\n",
       "398    2014\n",
       "399    2015\n",
       "400    2016\n",
       "401    2017\n",
       "402    2018\n",
       "403    1998\n",
       "404    1999\n",
       "405    2005\n",
       "406    2006\n",
       "407    2007\n",
       "408    2008\n",
       "409    2009\n",
       "410    2010\n",
       "411    2011\n",
       "412    2012\n",
       "413    1998\n",
       "414    1999\n",
       "415    2003\n",
       "416    2009\n",
       "417    2010\n",
       "418    2011\n",
       "419    2018\n",
       "Name: Season, Length: 420, dtype: int64"
      ]
     },
     "execution_count": 180,
     "metadata": {},
     "output_type": "execute_result"
    }
   ],
   "source": [
    "merged_table[\"Season\"]"
   ]
  },
  {
   "cell_type": "code",
   "execution_count": 182,
   "metadata": {},
   "outputs": [],
   "source": [
    "merged_table.to_csv(\"merged_table1.csv\", index = False)"
   ]
  },
  {
   "cell_type": "code",
   "execution_count": null,
   "metadata": {},
   "outputs": [],
   "source": []
  }
 ],
 "metadata": {
  "kernelspec": {
   "display_name": "Python 3",
   "language": "python",
   "name": "python3"
  },
  "language_info": {
   "codemirror_mode": {
    "name": "ipython",
    "version": 3
   },
   "file_extension": ".py",
   "mimetype": "text/x-python",
   "name": "python",
   "nbconvert_exporter": "python",
   "pygments_lexer": "ipython3",
   "version": "3.6.5"
  }
 },
 "nbformat": 4,
 "nbformat_minor": 2
}
